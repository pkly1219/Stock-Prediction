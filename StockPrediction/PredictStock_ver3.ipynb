{
 "cells": [
  {
   "cell_type": "code",
   "execution_count": 2,
   "id": "71a65c66",
   "metadata": {
    "scrolled": true
   },
   "outputs": [
    {
     "name": "stdout",
     "output_type": "stream",
     "text": [
      "          Date      Open      High       Low     Close  Adj Close    Volume  \\\n",
      "19  2010-07-27  1.394000  1.412000  1.350667  1.370000   1.370000   9295500   \n",
      "20  2010-07-28  1.370000  1.393333  1.367333  1.381333   1.381333   7008000   \n",
      "21  2010-07-29  1.384667  1.392000  1.333333  1.356667   1.356667   9240000   \n",
      "22  2010-07-30  1.346667  1.362667  1.303333  1.329333   1.329333   6403500   \n",
      "23  2010-08-02  1.366667  1.398000  1.355333  1.394667   1.394667  10771500   \n",
      "24  2010-08-03  1.400000  1.463333  1.388000  1.463333   1.463333  18457500   \n",
      "25  2010-08-04  1.463333  1.478667  1.390000  1.417333   1.417333  13695000   \n",
      "26  2010-08-05  1.436000  1.436667  1.336667  1.363333   1.363333  11943000   \n",
      "27  2010-08-06  1.340000  1.344000  1.301333  1.306000   1.306000  11128500   \n",
      "28  2010-08-09  1.326667  1.332000  1.296667  1.306667   1.306667  12190500   \n",
      "\n",
      "            OBV        RSI        MA  Price Change Primary Trend  Direction  \\\n",
      "19 -170926500.0  40.940803  1.324767     -0.026667       Bullish          0   \n",
      "20 -163918500.0  41.752913  1.314200      0.011333       Bullish          0   \n",
      "21 -173158500.0  40.449218  1.302600     -0.024666       Bullish          0   \n",
      "22 -179562000.0  38.996104  1.295867     -0.027334       Bullish          0   \n",
      "23 -168790500.0  44.159762  1.301600      0.065334       Bullish          0   \n",
      "24 -150333000.0  49.041799  1.321067      0.068666       Bullish          0   \n",
      "25 -164028000.0  46.132039  1.339267     -0.046000       Bullish          0   \n",
      "26 -175971000.0  42.913178  1.349233     -0.054000       Bullish          0   \n",
      "27 -187099500.0  39.742513  1.356533     -0.057333       Bearish         -1   \n",
      "28 -174909000.0  39.798241  1.365033      0.000667       Bearish         -1   \n",
      "\n",
      "    Target  \n",
      "19       0  \n",
      "20       0  \n",
      "21       0  \n",
      "22       0  \n",
      "23       0  \n",
      "24       0  \n",
      "25       0  \n",
      "26       0  \n",
      "27       0  \n",
      "28       0  \n"
     ]
    }
   ],
   "source": [
    "import pandas as pd\n",
    "import talib\n",
    "\n",
    "# Load data\n",
    "data = pd.read_csv('TSLA_ver3.csv')\n",
    "\n",
    "# Calculate OBV feature\n",
    "obv = talib.OBV(data['Close'], data['Volume'])\n",
    "data['OBV'] = obv\n",
    "\n",
    "# Calculate RSI feature\n",
    "rsi = talib.RSI(data['Close'], timeperiod=14)\n",
    "data['RSI'] = rsi\n",
    "\n",
    "# Calculate SMA feature\n",
    "ma = talib.SMA(data['Close'], timeperiod=20)\n",
    "data['MA'] = ma\n",
    "\n",
    "# Add Price Change column\n",
    "data['Price Change'] = data['Close'].diff()\n",
    "\n",
    "# Identify primary trend\n",
    "data['Primary Trend'] = 'Neutral'\n",
    "data.loc[data['Close'] > data['MA'], 'Primary Trend'] = 'Bullish'\n",
    "data.loc[data['Close'] < data['MA'], 'Primary Trend'] = 'Bearish'\n",
    "\n",
    "# Add Direction column based on RSI\n",
    "data['Direction'] = 0\n",
    "data.loc[(data['Primary Trend'] == 'Bullish') & (data['RSI'] > 50), 'Direction'] = 1\n",
    "data.loc[(data['Primary Trend'] == 'Bearish') & (data['RSI'] < 50), 'Direction'] = -1\n",
    "\n",
    "\n",
    "\n",
    "# Add Target column for trend change\n",
    "data['Target'] = 0\n",
    "for i in range(len(data) - 3):\n",
    "    if data.loc[i, 'Direction'] == -1 and data.loc[i+1:i+3, 'Direction'].sum() == -3:\n",
    "        data.loc[i+3, 'Target'] = -1  # Change to downtrend\n",
    "    elif data.loc[i, 'Direction'] == 1 and data.loc[i+1:i+3, 'Direction'].sum() == 3:\n",
    "        data.loc[i+3, 'Target'] = 1  # Change to uptrend\n",
    "\n",
    "# Remove rows with NaN values\n",
    "data = data.dropna()\n",
    "# Save data\n",
    "data.to_csv('TSLA_ver3pro.csv', index=False)\n",
    "\n",
    "print(data.head(10))\n",
    "\n",
    "\n"
   ]
  },
  {
   "cell_type": "code",
   "execution_count": 3,
   "id": "218f963a",
   "metadata": {},
   "outputs": [],
   "source": [
    "import warnings\n",
    "warnings.simplefilter('ignore')"
   ]
  },
  {
   "cell_type": "code",
   "execution_count": 4,
   "id": "3901f64d",
   "metadata": {},
   "outputs": [
    {
     "name": "stdout",
     "output_type": "stream",
     "text": [
      "The predicted target for tomorrow is: 0\n",
      "0.7937984496124031\n"
     ]
    }
   ],
   "source": [
    "\n",
    "import pandas as pd\n",
    "import numpy as np\n",
    "from sklearn.model_selection import train_test_split\n",
    "from sklearn.ensemble import RandomForestClassifier\n",
    "from sklearn.metrics import accuracy_score\n",
    "\n",
    "# Load data\n",
    "data = pd.read_csv('TSLA_ver3pro.csv')\n",
    "\n",
    "# Define features and target\n",
    "X = data[['Close', 'OBV', 'RSI', 'MA', 'Direction', 'Primary Trend']]\n",
    "y = data['Target']\n",
    "X = pd.get_dummies(X, columns=['Primary Trend'])\n",
    "\n",
    "# Split data into training and testing sets\n",
    "X_train, X_test, y_train, y_test = train_test_split(X, y, test_size=0.2, random_state=42)\n",
    "\n",
    "# Create and fit Random Forest model\n",
    "rf_model = RandomForestClassifier()\n",
    "rf_model.fit(X_train, y_train)\n",
    "\n",
    "# Make predictions on testing set\n",
    "y_pred = rf_model.predict(X_test)\n",
    "\n",
    "# Get the features for the last day in your dataset\n",
    "last_day_features = X.iloc[-1].values.reshape(1, -1)\n",
    "\n",
    "predicted_target = rf_model.predict(last_day_features)[0]\n",
    "# Print the predicted target\n",
    "print('The predicted target for tomorrow is:', predicted_target)\n",
    "\n",
    "X_test['Prediction'] = y_pred\n",
    "print(accuracy_score(y_test, y_pred))"
   ]
  },
  {
   "cell_type": "code",
   "execution_count": null,
   "id": "ac568b50",
   "metadata": {},
   "outputs": [],
   "source": []
  },
  {
   "cell_type": "code",
   "execution_count": null,
   "id": "75e58b57",
   "metadata": {},
   "outputs": [],
   "source": []
  }
 ],
 "metadata": {
  "kernelspec": {
   "display_name": "Python 3 (ipykernel)",
   "language": "python",
   "name": "python3"
  },
  "language_info": {
   "codemirror_mode": {
    "name": "ipython",
    "version": 3
   },
   "file_extension": ".py",
   "mimetype": "text/x-python",
   "name": "python",
   "nbconvert_exporter": "python",
   "pygments_lexer": "ipython3",
   "version": "3.9.12"
  }
 },
 "nbformat": 4,
 "nbformat_minor": 5
}
